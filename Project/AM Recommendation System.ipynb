{
 "cells": [
  {
   "cell_type": "code",
   "execution_count": 48,
   "metadata": {},
   "outputs": [],
   "source": [
    "# Data Structure\n",
    "import numpy as np\n",
    "import pandas as pd\n",
    "\n",
    "# Data preprocessing\n",
    "from sklearn.preprocessing import MinMaxScaler\n",
    "from sklearn.model_selection import train_test_split\n",
    "from sklearn.metrics import mean_squared_error,accuracy_score,confusion_matrix,pairwise_distances\n",
    "from sklearn.ensemble import RandomForestRegressor\n",
    "import itertools\n",
    "from scipy.sparse.linalg import svds\n",
    "\n",
    "#Graphing\n",
    "import matplotlib.pyplot as plt"
   ]
  },
  {
   "cell_type": "code",
   "execution_count": 2,
   "metadata": {},
   "outputs": [],
   "source": [
    "def data_clean(df, feature, m):\n",
    "    count = df[feature].value_counts()\n",
    "    df = df[df[feature].isin(count[count > m].index)]\n",
    "    return df"
   ]
  },
  {
   "cell_type": "code",
   "execution_count": 3,
   "metadata": {},
   "outputs": [],
   "source": [
    "def data_clean_sum(df,features,m):\n",
    "    count_product_id=df.ProductId.value_counts()\n",
    "    count_user_id=df.UserId.value_counts()\n",
    "    df['#Pro']=df.ProductId.apply(lambda x:count_product_id[x])\n",
    "    df['#Users']=df.UserId.apply(lambda x:count_user_id[x])\n",
    "    while (df.ProductId.value_counts(ascending=True)[0])<m or (df.UserId.value_counts(ascending=True)[0]<m):\n",
    "        df=data_clean(df,features[0],m)\n",
    "        df=data_clean(df,features[1],m)\n",
    "    return df"
   ]
  },
  {
   "cell_type": "code",
   "execution_count": 4,
   "metadata": {},
   "outputs": [],
   "source": [
    "def data():\n",
    "    print('loading data...')\n",
    "    df=pd.read_csv('../Downloads/Reviews.csv')\n",
    "    df['datetime']=pd.to_datetime(df.Time,unit='s')\n",
    "    raw_data=data_clean_sum(df,['ProductId','UserId'],10)\n",
    "    raw_data['uid']=pd.factorize(raw_data.UserId)[0]\n",
    "    raw_data['pid']=pd.factorize(raw_data.ProductId)[0]\n",
    "    sc=MinMaxScaler()\n",
    "    raw_data['time']=sc.fit_transform(raw_data['Time'].values.reshape(-1,1))\n",
    "    raw_data['nuser']=sc.fit_transform(raw_data['#Users'].values.reshape(-1,1))\n",
    "    raw_data['nproduct']=sc.fit_transform(raw_data['#Pro'].values.reshape(-1,1))\n",
    "    print('Finished Loading data.')\n",
    "    return raw_data"
   ]
  },
  {
   "cell_type": "code",
   "execution_count": 12,
   "metadata": {},
   "outputs": [],
   "source": [
    "def plot_confusion_matrix(comfusiontable,classname,normalize=False,title='Confusion Matrix',cmap=plt.cm.Blues):\n",
    "    if normalize:\n",
    "        cm=comfusiontable.astype('float')/comfusiontable.sum(axis=1)[:,np.newaxis]\n",
    "        print('Normalized confusion matrix')\n",
    "    else:\n",
    "        print('Confusion matrix, without normalization')\n",
    "    print(cm)\n",
    "    \n",
    "    plt.imshow(cm,interpolation='nearest',cmap=cmap)\n",
    "    plt.colorbar()\n",
    "    plt.title(title)\n",
    "    tick_marks=np.arange(len(classname))\n",
    "    plt.xticks(tick_marks,classname,rotation=45)\n",
    "    plt.yticks(tick_marks,classname)\n",
    "    fmt = '.2f' if normalize else 'd'\n",
    "    thresh = cm.max() / 2.\n",
    "    for i, j in itertools.product(range(cm.shape[0]), range(cm.shape[1])):\n",
    "        plt.text(j, i, format(cm[i, j], fmt),\n",
    "                 horizontalalignment=\"center\",\n",
    "                 color=\"white\" if cm[i, j] > thresh else \"black\")\n",
    "    plt.tight_layout()\n",
    "    plt.ylabel('True label')\n",
    "    plt.xlabel('Predicted label')        "
   ]
  },
  {
   "cell_type": "code",
   "execution_count": 5,
   "metadata": {},
   "outputs": [
    {
     "name": "stdout",
     "output_type": "stream",
     "text": [
      "loading data...\n",
      "Finished Loading data.\n"
     ]
    }
   ],
   "source": [
    "df=data()"
   ]
  },
  {
   "cell_type": "code",
   "execution_count": 6,
   "metadata": {},
   "outputs": [],
   "source": [
    "def user_item_table(df):\n",
    "    data=df.loc[:,['uid','pid','Score']]\n",
    "    table=np.zeros([data['uid'].unique().shape[0],data['pid'].unique().shape[0]])\n",
    "    for i in np.array(data):\n",
    "        uid,pid,score=i\n",
    "        if table[uid][pid]<score:\n",
    "            table[uid][pid]=score\n",
    "    print('The shape of user-item table is:')\n",
    "    print(table.shape)\n",
    "    return(table)"
   ]
  },
  {
   "cell_type": "code",
   "execution_count": 7,
   "metadata": {
    "scrolled": false
   },
   "outputs": [
    {
     "name": "stdout",
     "output_type": "stream",
     "text": [
      "The shape of user-item table is:\n",
      "(3666, 1102)\n"
     ]
    }
   ],
   "source": [
    "user_item=user_item_table(df)"
   ]
  },
  {
   "cell_type": "markdown",
   "metadata": {},
   "source": [
    "# Random Forest"
   ]
  },
  {
   "cell_type": "code",
   "execution_count": 16,
   "metadata": {},
   "outputs": [],
   "source": [
    "def randomforst(df):\n",
    "    X=df.loc[:,['uid','pid','time','nuser','nproduct']]\n",
    "    Y=df.loc[:,'Score']\n",
    "    X_train,X_test,Y_train,Y_test=train_test_split(X,Y,test_size=0.3,random_state=2019)\n",
    "    model=RandomForestRegressor()\n",
    "    model.fit(X_train,Y_train)\n",
    "    Y_test_predict=model.predict(X_test)\n",
    "    train_mse=mean_squared_error(Y_train,model.predict(X_train))\n",
    "    test_mse=mean_squared_error(Y_test,Y_test_predict)\n",
    "    print('train MSE is {},test MSE is {}'.format(train_mse,test_mse))\n",
    "    indicate=Y_test_predict>=4\n",
    "    Y_test_table=np.zeros(len(Y_test))\n",
    "    Y_test_table[indicate]=1\n",
    "    indicate=Y_test>=4\n",
    "    Y_true_table=np.zeros(len(Y_test))\n",
    "    Y_true_table[indicate]=1\n",
    "    print('Recomendament Acuuracy is {}, Not Recommendation Accuracy is {}'.format(accuracy_score(Y_test_predict>=4,Y_test>=4),accuracy_score(Y_test_predict<=3,Y_test<=3)))\n",
    "    class_names = ['not recommand','recommand']\n",
    "    cnf_matrix = confusion_matrix(Y_true_table,Y_test_table)\n",
    "    np.set_printoptions(precision=2)\n",
    "    plt.figure()\n",
    "    plot_confusion_matrix(cnf_matrix, classname=class_names, normalize=True,\n",
    "                          title='rf')\n",
    "    plt.show()"
   ]
  },
  {
   "cell_type": "code",
   "execution_count": 17,
   "metadata": {
    "scrolled": true
   },
   "outputs": [
    {
     "name": "stderr",
     "output_type": "stream",
     "text": [
      "C:\\Users\\93444\\Anaconda3\\lib\\site-packages\\sklearn\\ensemble\\forest.py:245: FutureWarning: The default value of n_estimators will change from 10 in version 0.20 to 100 in 0.22.\n",
      "  \"10 in version 0.20 to 100 in 0.22.\", FutureWarning)\n"
     ]
    },
    {
     "name": "stdout",
     "output_type": "stream",
     "text": [
      "train MSE is 0.07002856396647182,test MSE is 0.3476894648721451\n",
      "Recomendament Acuuracy is 0.8708942078541084, Not Recommendation Accuracy is 0.8956584809864263\n",
      "Normalized confusion matrix\n",
      "[[0.89 0.11]\n",
      " [0.14 0.86]]\n"
     ]
    },
    {
     "data": {
      "image/png": "[encoded data removed]",
      "text/plain": [
       "<Figure size 432x288 with 2 Axes>"
      ]
     },
     "metadata": {
      "needs_background": "light"
     },
     "output_type": "display_data"
    }
   ],
   "source": [
    "randomforst(df)"
   ]
  },
  {
   "cell_type": "markdown",
   "metadata": {},
   "source": [
    "# Quasi-SVD"
   ]
  },
  {
   "cell_type": "code",
   "execution_count": 42,
   "metadata": {
    "scrolled": true
   },
   "outputs": [
    {
     "name": "stdout",
     "output_type": "stream",
     "text": [
      "the top10 recommanded products for user 200 is [  52 1051  960    1  620  432  559  883   43 1073]\n",
      "The real ID is ['B0058AMY74' 'B006WYSFZK' 'B0013LYLIW' 'B000G6MBX2' 'B000GWLUGU'\n",
      " 'B000G6MBWI' 'B000GWKO7G' 'B0013LYLHS' 'B0013LWJ1S' 'B000GWLR72']\n"
     ]
    },
    {
     "data": {
      "text/plain": [
       "array([  52, 1051,  960,    1,  620,  432,  559,  883,   43, 1073],\n",
       "      dtype=int64)"
      ]
     },
     "execution_count": 42,
     "metadata": {},
     "output_type": "execute_result"
    }
   ],
   "source": [
    "def cosine_similarity(table=user_item,distance='cosine'):\n",
    "    user_similarity=pairwise_distances(table,metric=distance)\n",
    "    item_similarity=pairwise_distances(table.T,metric=distance)\n",
    "    sc=MinMaxScaler()\n",
    "    result=sc.fit_transform(np.dot(user_similarity,table).dot(item_similarity))\n",
    "    return result\n",
    "def rec_result(result,uid,n,rawId=False):\n",
    "    if uid in range(total_u):\n",
    "        top_N=np.argpartition(result[uid],-n)[-n:]\n",
    "        print('the top{} recommanded products for user {} is {}'.format(n,uid,top_N))\n",
    "        \n",
    "        if rawId==True:\n",
    "            print('The real ID is {}'.format(pid2Pid[top_N]))\n",
    "    else:\n",
    "        print('Use cold start methods')\n",
    "\n",
    "pid2Pid=df['ProductId'].unique()\n",
    "total_u=df['uid'].unique().shape[0]\n",
    "result=cosine_similarity()\n",
    "rec_result(result,200,10,rawId=True)"
   ]
  },
  {
   "cell_type": "markdown",
   "metadata": {},
   "source": [
    "# SVD"
   ]
  },
  {
   "cell_type": "code",
   "execution_count": 62,
   "metadata": {},
   "outputs": [],
   "source": [
    "def svdr(table=user_item,k=100):\n",
    "    A=np.matrix(table)\n",
    "    user_ratings_mean=np.mean(A,axis=0)\n",
    "    user_ratings_mean=user_ratings_mean.reshape(1,-1)\n",
    "    A_cor=A-user_ratings_mean\n",
    "    U,sigma,Vt=svds(A_cor,k)\n",
    "    sigma=np.diag(sigma)\n",
    "    sc=MinMaxScaler()\n",
    "    pred=sc.fit_transform(np.dot(U,sigma).dot(Vt)+user_ratings_mean)\n",
    "    return pred "
   ]
  },
  {
   "cell_type": "code",
   "execution_count": 65,
   "metadata": {},
   "outputs": [
    {
     "name": "stdout",
     "output_type": "stream",
     "text": [
      "the top10 recommanded products for user 200 is [ 628  131  432 1073  883   43  620    1  559  960]\n",
      "The real ID is ['B000FNEX8C' 'B000FNB3AI' 'B000G6MBWI' 'B000GWLR72' 'B0013LYLHS'\n",
      " 'B0013LWJ1S' 'B000GWLUGU' 'B000G6MBX2' 'B000GWKO7G' 'B0013LYLIW']\n"
     ]
    },
    {
     "data": {
      "text/plain": [
       "array([ 628,  131,  432, 1073,  883,   43,  620,    1,  559,  960],\n",
       "      dtype=int64)"
      ]
     },
     "execution_count": 65,
     "metadata": {},
     "output_type": "execute_result"
    }
   ],
   "source": [
    "result=svdr()\n",
    "rec_result(result,200,10,rawId=True)"
   ]
  }
 ],
 "metadata": {
  "kernelspec": {
   "display_name": "Python 3",
   "language": "python",
   "name": "python3"
  },
  "language_info": {
   "codemirror_mode": {
    "name": "ipython",
    "version": 3
   },
   "file_extension": ".py",
   "mimetype": "text/x-python",
   "name": "python",
   "nbconvert_exporter": "python",
   "pygments_lexer": "ipython3",
   "version": "3.7.3"
  }
 },
 "nbformat": 4,
 "nbformat_minor": 2
}
